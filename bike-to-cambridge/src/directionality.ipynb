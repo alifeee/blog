{
 "cells": [
  {
   "attachments": {},
   "cell_type": "markdown",
   "metadata": {},
   "source": [
    "# Directionality charts\n",
    "\n",
    "Here I attempt to make polar bar charts/histograms for different gpx routes, to display how much they go \"in the right direction\"."
   ]
  },
  {
   "cell_type": "code",
   "execution_count": 1,
   "metadata": {},
   "outputs": [],
   "source": [
    "import gpxpy\n",
    "import matplotlib.pyplot as plt"
   ]
  },
  {
   "attachments": {},
   "cell_type": "markdown",
   "metadata": {},
   "source": [
    "Let's make constants for the routes we want to work with"
   ]
  },
  {
   "cell_type": "code",
   "execution_count": 2,
   "metadata": {},
   "outputs": [],
   "source": [
    "BHM_TO_STR = \"../data/bike/BHM_TO_STR.gpx\"\n",
    "BIC_TO_BED = \"../data/bike/BIC_TO_BED.gpx\"\n",
    "BED_TO_SAN = \"../data/bike/BED_TO_SAN.gpx\"\n",
    "BIKE_ROUTES = [BHM_TO_STR, BIC_TO_BED, BED_TO_SAN]"
   ]
  },
  {
   "attachments": {},
   "cell_type": "markdown",
   "metadata": {},
   "source": [
    "Next, functions to load data and display it easily"
   ]
  },
  {
   "cell_type": "code",
   "execution_count": 6,
   "metadata": {},
   "outputs": [
    {
     "data": {
      "image/png": "[encoded data removed]",
      "text/plain": [
       "<Figure size 500x100 with 1 Axes>"
      ]
     },
     "metadata": {},
     "output_type": "display_data"
    }
   ],
   "source": [
    "def get_xy_from_gpx(gpx_filename: str):\n",
    "    gpx_file = open(gpx_filename, 'r')\n",
    "    gpx = gpxpy.parse(gpx_file)\n",
    "    x = []\n",
    "    y = []\n",
    "    for track in gpx.tracks:\n",
    "        for segment in track.segments:\n",
    "            for point in segment.points:\n",
    "                x.append(point.longitude)\n",
    "                y.append(point.latitude)\n",
    "    return x, y\n",
    "\n",
    "def show_routes(*coordinates):\n",
    "    \"\"\"Show the routes relative to each other.\n",
    "    Args:\n",
    "        *coordinates: A list of x and y coordinates.\n",
    "            i.e., [x1, y1, x2, y2, ..., xn, yn]\n",
    "    \"\"\"\n",
    "    n = len(coordinates) // 2\n",
    "    fig = plt.figure(figsize=(5, 1))\n",
    "    ax = fig.add_subplot(111)\n",
    "    for i in range(n):\n",
    "        x = coordinates[2*i]\n",
    "        y = coordinates[2*i+1]\n",
    "        ax.plot(x, y, '-')\n",
    "    ax.set_aspect('equal')\n",
    "    plt.ylabel('Lat')\n",
    "    plt.xlabel('Long')\n",
    "    plt.show()\n",
    "\n",
    "coords = []\n",
    "for route in BIKE_ROUTES:\n",
    "    x, y = get_xy_from_gpx(route)\n",
    "    coords.append(x)\n",
    "    coords.append(y)\n",
    "show_routes(*coords)"
   ]
  }
 ],
 "metadata": {
  "kernelspec": {
   "display_name": "Python 3",
   "language": "python",
   "name": "python3"
  },
  "language_info": {
   "codemirror_mode": {
    "name": "ipython",
    "version": 3
   },
   "file_extension": ".py",
   "mimetype": "text/x-python",
   "name": "python",
   "nbconvert_exporter": "python",
   "pygments_lexer": "ipython3",
   "version": "3.10.4"
  },
  "orig_nbformat": 4
 },
 "nbformat": 4,
 "nbformat_minor": 2
}
