{
 "cells": [
  {
   "attachments": {},
   "cell_type": "markdown",
   "metadata": {},
   "source": [
    "# Background\n",
    "\n",
    "This file loads the bike and train routes, and plots them on a blank matplotlib file. This is in order to generate a simple svg route which can be used in many places.\n"
   ]
  },
  {
   "cell_type": "code",
   "execution_count": 1,
   "metadata": {},
   "outputs": [],
   "source": [
    "import gpxpy\n",
    "import matplotlib.pyplot as plt\n",
    "\n",
    "BIRMINGHAM_COORDS = (-1.9018053, 52.4765926)\n",
    "CAMBRIDGE_COORDS = (0.1297757, 52.2149504)\n",
    "LEAMINGTON_COORDS = (-1.5338551, 52.2906101)\n",
    "BEDFORD_COORDS = (-0.4723198, 52.1453833)"
   ]
  },
  {
   "attachments": {},
   "cell_type": "markdown",
   "metadata": {},
   "source": [
    "## Import bike routes\n"
   ]
  },
  {
   "cell_type": "code",
   "execution_count": 2,
   "metadata": {},
   "outputs": [],
   "source": [
    "bike_route_names = [\"BHM_TO_STR\", \"BIC_TO_BED\", \"BED_TO_SAN\"]\n",
    "bike_routes = {}\n",
    "for route_name in bike_route_names:\n",
    "    gpx_file = open(f\"../data/bike/{route_name}.gpx\", \"r\")\n",
    "    gpx = gpxpy.parse(gpx_file)\n",
    "    bike_routes[route_name] = gpx.tracks[0].segments[0].points\n"
   ]
  },
  {
   "attachments": {},
   "cell_type": "markdown",
   "metadata": {},
   "source": [
    "## Import train routes\n"
   ]
  },
  {
   "cell_type": "code",
   "execution_count": 3,
   "metadata": {},
   "outputs": [],
   "source": [
    "train_route_names = [\"STR_TO_LEA\", \"LEA_TO_BIC\", \"SAN_TO_CAM\"]\n",
    "train_routes = {}\n",
    "for route_name in train_route_names:\n",
    "    gpx_file = open(f\"../data/train/{route_name}.gpx\", \"r\")\n",
    "    gpx = gpxpy.parse(gpx_file)\n",
    "    train_routes[route_name] = gpx.tracks[0].segments[0].points\n"
   ]
  },
  {
   "attachments": {},
   "cell_type": "markdown",
   "metadata": {},
   "source": [
    "## Plot\n"
   ]
  },
  {
   "cell_type": "code",
   "execution_count": 4,
   "metadata": {},
   "outputs": [
    {
     "data": {
      "image/png": "[encoded data removed]",
      "text/plain": [
       "<Figure size 640x480 with 1 Axes>"
      ]
     },
     "metadata": {},
     "output_type": "display_data"
    }
   ],
   "source": [
    "fig = plt.figure()\n",
    "ax = fig.add_subplot(111)\n",
    "\n",
    "for route_name, route in bike_routes.items():\n",
    "    xs = [point.longitude for point in route]\n",
    "    ys = [point.latitude for point in route]\n",
    "    ax.plot(xs, ys, \"k-\", lw=2)\n",
    "\n",
    "for route_name, route in train_routes.items():\n",
    "    xs = [point.longitude for point in route]\n",
    "    ys = [point.latitude for point in route]\n",
    "    ax.plot(xs, ys, \"k--\", lw=2)\n",
    "\n",
    "ax.set_aspect(\"equal\")\n",
    "plt.axis(\"off\")\n",
    "plt.show()\n"
   ]
  },
  {
   "attachments": {},
   "cell_type": "markdown",
   "metadata": {},
   "source": [
    "## Save\n"
   ]
  },
  {
   "cell_type": "code",
   "execution_count": 5,
   "metadata": {},
   "outputs": [],
   "source": [
    "fig.patch.set_visible(False)\n",
    "fig.savefig(\"../images/route.svg\", format=\"svg\", dpi=1200, bbox_inches=\"tight\")\n"
   ]
  },
  {
   "attachments": {},
   "cell_type": "markdown",
   "metadata": {},
   "source": [
    "# Plot with more info\n"
   ]
  },
  {
   "cell_type": "code",
   "execution_count": 14,
   "metadata": {},
   "outputs": [
    {
     "data": {
      "image/png": "[encoded data removed]",
      "text/plain": [
       "<Figure size 640x480 with 1 Axes>"
      ]
     },
     "metadata": {},
     "output_type": "display_data"
    }
   ],
   "source": [
    "# plt.xkcd()\n",
    "fig = plt.figure()\n",
    "ax = fig.add_subplot(111)\n",
    "\n",
    "bike_linestyle = {\n",
    "    \"color\": \"#1f77b4\",\n",
    "    \"linewidth\": 2,\n",
    "    \"linestyle\": \"-\",\n",
    "}\n",
    "\n",
    "train_linestyle = {\n",
    "    \"color\": \"#ff7f0e\",\n",
    "    \"linewidth\": 2,\n",
    "    \"linestyle\": \"--\",\n",
    "}\n",
    "\n",
    "for route_name, route in bike_routes.items():\n",
    "    xs = [point.longitude for point in route]\n",
    "    ys = [point.latitude for point in route]\n",
    "    ax.plot(xs, ys, **bike_linestyle)\n",
    "\n",
    "for route_name, route in train_routes.items():\n",
    "    xs = [point.longitude for point in route]\n",
    "    ys = [point.latitude for point in route]\n",
    "    ax.plot(xs, ys, **train_linestyle)\n",
    "\n",
    "# label start and end points\n",
    "ax.text(\n",
    "    BIRMINGHAM_COORDS[0] + 0.05,\n",
    "    BIRMINGHAM_COORDS[1],\n",
    "    \"Birmingham\",\n",
    "    horizontalalignment=\"left\",\n",
    "    verticalalignment=\"center\",\n",
    "    fontsize=12,\n",
    ")\n",
    "ax.text(\n",
    "    CAMBRIDGE_COORDS[0],\n",
    "    CAMBRIDGE_COORDS[1],\n",
    "    \"Cambridge\",\n",
    "    horizontalalignment=\"center\",\n",
    "    verticalalignment=\"top\",\n",
    "    fontsize=12,\n",
    ")\n",
    "\n",
    "# plot stayovers\n",
    "for coords in [LEAMINGTON_COORDS, BEDFORD_COORDS]:\n",
    "    ax.plot(coords[0], coords[1], \"rD\", markersize=5)\n",
    "\n",
    "ax.set_aspect(\"equal\")\n",
    "# make custom legend with only \"bike\" and \"train\" lines\n",
    "legend1 = ax.legend(\n",
    "    [\n",
    "        plt.Line2D([0], [0], **bike_linestyle),\n",
    "        plt.Line2D([0], [0], **train_linestyle),\n",
    "    ],\n",
    "    [\"bike\", \"train\"],\n",
    "    loc=\"lower left\",\n",
    ")\n",
    "ax.add_artist(legend1)\n",
    "# make custom legend with only \"stayover\" points\n",
    "legend2 = ax.legend(\n",
    "    [plt.Line2D([0], [0], color=\"r\", marker=\"D\", linestyle=\"None\")],\n",
    "    [\"overnight stays\"],\n",
    "    loc=\"lower right\",\n",
    ")\n",
    "ax.add_artist(legend2)\n",
    "plt.axis(\"off\")\n",
    "plt.show()\n",
    "fig.patch.set_visible(False)\n",
    "fig.savefig(\"../images/route_descriptive.svg\", format=\"svg\", bbox_inches=\"tight\")"
   ]
  }
 ],
 "metadata": {
  "kernelspec": {
   "display_name": "Python 3",
   "language": "python",
   "name": "python3"
  },
  "language_info": {
   "codemirror_mode": {
    "name": "ipython",
    "version": 3
   },
   "file_extension": ".py",
   "mimetype": "text/x-python",
   "name": "python",
   "nbconvert_exporter": "python",
   "pygments_lexer": "ipython3",
   "version": "3.11.0"
  },
  "orig_nbformat": 4
 },
 "nbformat": 4,
 "nbformat_minor": 2
}
