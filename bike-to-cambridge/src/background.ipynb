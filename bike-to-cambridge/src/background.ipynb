{
 "cells": [
  {
   "attachments": {},
   "cell_type": "markdown",
   "metadata": {},
   "source": [
    "Load gpx"
   ]
  },
  {
   "cell_type": "code",
   "execution_count": 11,
   "metadata": {},
   "outputs": [
    {
     "data": {
      "image/png": "[encoded data removed]",
      "text/plain": [
       "<Figure size 640x480 with 1 Axes>"
      ]
     },
     "metadata": {},
     "output_type": "display_data"
    }
   ],
   "source": [
    "import gpxpy\n",
    "import matplotlib.pyplot as plt\n",
    "import os\n",
    "\n",
    "files = [\n",
    "    'BHM_TO_STR.gpx',\n",
    "    'BIC_TO_BED.gpx',\n",
    "    'BED_TO_SAN.gpx',\n",
    "]\n",
    "fig = plt.figure()\n",
    "ax = fig.add_subplot(111)\n",
    "\n",
    "for i, file in enumerate(files):\n",
    "    gpx_file = open(f'../data/{file}', 'r', encoding='utf-8')\n",
    "    gpx = gpxpy.parse(gpx_file)\n",
    "\n",
    "    data = gpx.tracks[0].segments[0].points\n",
    "\n",
    "    lats = [p.latitude for p in data]\n",
    "    lons = [p.longitude for p in data]\n",
    "\n",
    "    ax.plot(lons, lats, 'k--')\n",
    "    ax.axis('off')\n",
    "\n",
    "ax.set_aspect('equal')\n",
    "plt.axis('off')\n",
    "plt.show()"
   ]
  }
 ],
 "metadata": {
  "kernelspec": {
   "display_name": "Python 3",
   "language": "python",
   "name": "python3"
  },
  "language_info": {
   "codemirror_mode": {
    "name": "ipython",
    "version": 3
   },
   "file_extension": ".py",
   "mimetype": "text/x-python",
   "name": "python",
   "nbconvert_exporter": "python",
   "pygments_lexer": "ipython3",
   "version": "3.10.4"
  },
  "orig_nbformat": 4
 },
 "nbformat": 4,
 "nbformat_minor": 2
}
