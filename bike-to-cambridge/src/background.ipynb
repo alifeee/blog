{
 "cells": [
  {
   "attachments": {},
   "cell_type": "markdown",
   "metadata": {},
   "source": [
    "# Background\n",
    "\n",
    "This file loads the bike and train routes, and plots them on a blank matplotlib file. This is in order to generate a simple svg route which can be used in many places."
   ]
  },
  {
   "cell_type": "code",
   "execution_count": 8,
   "metadata": {},
   "outputs": [],
   "source": [
    "import gpxpy\n",
    "import matplotlib.pyplot as plt\n",
    "import os"
   ]
  },
  {
   "attachments": {},
   "cell_type": "markdown",
   "metadata": {},
   "source": [
    "## Import bike routes"
   ]
  },
  {
   "cell_type": "code",
   "execution_count": 9,
   "metadata": {},
   "outputs": [],
   "source": [
    "bike_route_names = [\n",
    "    \"BHM_TO_STR\",\n",
    "    \"BIC_TO_BED\",\n",
    "    \"BED_TO_SAN\"\n",
    "]\n",
    "bike_routes = {}\n",
    "for route_name in bike_route_names:\n",
    "    gpx_file = open(f\"../data/bike/{route_name}.gpx\", 'r')\n",
    "    gpx = gpxpy.parse(gpx_file)\n",
    "    bike_routes[route_name] = gpx.tracks[0].segments[0].points"
   ]
  },
  {
   "attachments": {},
   "cell_type": "markdown",
   "metadata": {},
   "source": [
    "## Import train routes"
   ]
  },
  {
   "cell_type": "code",
   "execution_count": 10,
   "metadata": {},
   "outputs": [],
   "source": [
    "train_route_names = [\n",
    "    \"STR_TO_LEA\",\n",
    "    \"LEA_TO_BIC\",\n",
    "    \"SAN_TO_CAM\"\n",
    "]\n",
    "train_routes = {}\n",
    "for route_name in train_route_names:\n",
    "    gpx_file = open(f\"../data/train/{route_name}.gpx\", 'r')\n",
    "    gpx = gpxpy.parse(gpx_file)\n",
    "    train_routes[route_name] = gpx.tracks[0].segments[0].points"
   ]
  },
  {
   "cell_type": "code",
   "execution_count": 11,
   "metadata": {},
   "outputs": [
    {
     "data": {
      "image/png": "[encoded data removed]",
      "text/plain": [
       "<Figure size 640x480 with 1 Axes>"
      ]
     },
     "metadata": {},
     "output_type": "display_data"
    }
   ],
   "source": [
    "fig = plt.figure()\n",
    "ax = fig.add_subplot(111)\n",
    "\n",
    "for route_name, route in bike_routes.items():\n",
    "    xs = [point.longitude for point in route]\n",
    "    ys = [point.latitude for point in route]\n",
    "    ax.plot(xs, ys, 'b')\n",
    "\n",
    "for route_name, route in train_routes.items():\n",
    "    xs = [point.longitude for point in route]\n",
    "    ys = [point.latitude for point in route]\n",
    "    ax.plot(xs, ys, 'r')\n",
    "\n",
    "ax.set_aspect('equal')\n",
    "plt.axis('off')\n",
    "plt.show()"
   ]
  }
 ],
 "metadata": {
  "kernelspec": {
   "display_name": "Python 3",
   "language": "python",
   "name": "python3"
  },
  "language_info": {
   "codemirror_mode": {
    "name": "ipython",
    "version": 3
   },
   "file_extension": ".py",
   "mimetype": "text/x-python",
   "name": "python",
   "nbconvert_exporter": "python",
   "pygments_lexer": "ipython3",
   "version": "3.10.4"
  },
  "orig_nbformat": 4
 },
 "nbformat": 4,
 "nbformat_minor": 2
}
