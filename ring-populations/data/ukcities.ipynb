{
 "cells": [
  {
   "attachments": {},
   "cell_type": "markdown",
   "metadata": {},
   "source": [
    "# UK Cities from worldcities\n",
    "\n",
    "A look into all the UK cities in `worldcities.csv`.\n"
   ]
  },
  {
   "cell_type": "code",
   "execution_count": 8,
   "metadata": {},
   "outputs": [],
   "source": [
    "import pandas\n",
    "import matplotlib.pyplot as plt\n",
    "import json"
   ]
  },
  {
   "attachments": {},
   "cell_type": "markdown",
   "metadata": {},
   "source": [
    "Get cities data from worldcities\n"
   ]
  },
  {
   "cell_type": "code",
   "execution_count": 9,
   "metadata": {},
   "outputs": [
    {
     "data": {
      "text/html": [
       "<div>\n",
       "<style scoped>\n",
       "    .dataframe tbody tr th:only-of-type {\n",
       "        vertical-align: middle;\n",
       "    }\n",
       "\n",
       "    .dataframe tbody tr th {\n",
       "        vertical-align: top;\n",
       "    }\n",
       "\n",
       "    .dataframe thead th {\n",
       "        text-align: right;\n",
       "    }\n",
       "</style>\n",
       "<table border=\"1\" class=\"dataframe\">\n",
       "  <thead>\n",
       "    <tr style=\"text-align: right;\">\n",
       "      <th></th>\n",
       "      <th>city</th>\n",
       "      <th>city_ascii</th>\n",
       "      <th>lat</th>\n",
       "      <th>lng</th>\n",
       "      <th>country</th>\n",
       "      <th>iso2</th>\n",
       "      <th>iso3</th>\n",
       "      <th>admin_name</th>\n",
       "      <th>capital</th>\n",
       "      <th>population</th>\n",
       "      <th>id</th>\n",
       "    </tr>\n",
       "  </thead>\n",
       "  <tbody>\n",
       "    <tr>\n",
       "      <th>35</th>\n",
       "      <td>London</td>\n",
       "      <td>London</td>\n",
       "      <td>51.5072</td>\n",
       "      <td>-0.1275</td>\n",
       "      <td>United Kingdom</td>\n",
       "      <td>GB</td>\n",
       "      <td>GBR</td>\n",
       "      <td>London, City of</td>\n",
       "      <td>primary</td>\n",
       "      <td>11262000.0</td>\n",
       "      <td>1826645935</td>\n",
       "    </tr>\n",
       "    <tr>\n",
       "      <th>274</th>\n",
       "      <td>Birmingham</td>\n",
       "      <td>Birmingham</td>\n",
       "      <td>52.4800</td>\n",
       "      <td>-1.9025</td>\n",
       "      <td>United Kingdom</td>\n",
       "      <td>GB</td>\n",
       "      <td>GBR</td>\n",
       "      <td>Birmingham</td>\n",
       "      <td>NaN</td>\n",
       "      <td>2919600.0</td>\n",
       "      <td>1826423213</td>\n",
       "    </tr>\n",
       "    <tr>\n",
       "      <th>297</th>\n",
       "      <td>Manchester</td>\n",
       "      <td>Manchester</td>\n",
       "      <td>53.4794</td>\n",
       "      <td>-2.2453</td>\n",
       "      <td>United Kingdom</td>\n",
       "      <td>GB</td>\n",
       "      <td>GBR</td>\n",
       "      <td>Manchester</td>\n",
       "      <td>NaN</td>\n",
       "      <td>2705000.0</td>\n",
       "      <td>1826246335</td>\n",
       "    </tr>\n",
       "  </tbody>\n",
       "</table>\n",
       "</div>"
      ],
      "text/plain": [
       "           city  city_ascii      lat     lng         country iso2 iso3  \\\n",
       "35       London      London  51.5072 -0.1275  United Kingdom   GB  GBR   \n",
       "274  Birmingham  Birmingham  52.4800 -1.9025  United Kingdom   GB  GBR   \n",
       "297  Manchester  Manchester  53.4794 -2.2453  United Kingdom   GB  GBR   \n",
       "\n",
       "          admin_name  capital  population          id  \n",
       "35   London, City of  primary  11262000.0  1826645935  \n",
       "274       Birmingham      NaN   2919600.0  1826423213  \n",
       "297       Manchester      NaN   2705000.0  1826246335  "
      ]
     },
     "execution_count": 9,
     "metadata": {},
     "output_type": "execute_result"
    }
   ],
   "source": [
    "df = pandas.pandas.read_csv(\"./data/worldcities/worldcities.csv\", header=0)\n",
    "df_uk = df[df[\"country\"] == \"United Kingdom\"]\n",
    "df_uk = df_uk.sort_values(by=\"population\", ascending=False)\n",
    "df_uk.head(3)"
   ]
  },
  {
   "attachments": {},
   "cell_type": "markdown",
   "metadata": {},
   "source": [
    "Get cities data from uk_rings.json\n"
   ]
  },
  {
   "cell_type": "code",
   "execution_count": 10,
   "metadata": {},
   "outputs": [
    {
     "name": "stdout",
     "output_type": "stream",
     "text": [
      "['London', 'Birmingham', 'Manchester', 'Liverpool', 'Portsmouth', 'Southampton', 'Leeds', 'Nottingham', 'Glasgow', 'Bristol', 'Sheffield', 'Leicester', 'Edinburgh', 'Caerdydd', 'Worthing', 'Stoke-on-Trent', 'Coventry', 'Reading', 'Belfast', 'Kingston upon Hull']\n",
      "Birmingham...\n",
      "{'distances': [20, 19, 18, 17, 16, 15, 14, 13, 12, 11, 10, 9, 8, 7, 6, 5, 4, 3, 2, 1, 0], 'populations': [2706341, 2602645, 2486519, 2362338, 2251418, 2119190, 2004800, 1893441, 1753948, 1586911, 1416102, 1239122, 1034281, 832626, 631351, 460386, 302135, 158969, 65344, 13730, 0], 'busStops': [11278, 10715, 10232, 9701, 9096, 8546, 7962, 7367, 6648, 5892, 5172, 4506, 3658, 2804, 2089, 1519, 1053, 715, 418, 166, 0], 'tramStops': [68, 68, 65, 65, 63, 59, 57, 55, 52, 46, 46, 44, 40, 36, 32, 30, 28, 26, 24, 18, 0], 'railStops': [79, 76, 74, 70, 67, 64, 58, 56, 49, 45, 39, 36, 32, 27, 22, 16, 12, 7, 6, 3, 0]}\n"
     ]
    }
   ],
   "source": [
    "with open(\"./data/uk_rings/uk_rings.json\", \"r\", encoding=\"utf-8\") as f:\n",
    "    uk_rings = json.load(f)\n",
    "cities_with_ring_data = list(uk_rings.keys())\n",
    "print(cities_with_ring_data)\n",
    "print(\"Birmingham...\")\n",
    "print(uk_rings[\"Birmingham\"])"
   ]
  },
  {
   "attachments": {},
   "cell_type": "markdown",
   "metadata": {},
   "source": [
    "Add ring population data to cities\n"
   ]
  },
  {
   "cell_type": "code",
   "execution_count": 11,
   "metadata": {},
   "outputs": [
    {
     "data": {
      "text/html": [
       "<div>\n",
       "<style scoped>\n",
       "    .dataframe tbody tr th:only-of-type {\n",
       "        vertical-align: middle;\n",
       "    }\n",
       "\n",
       "    .dataframe tbody tr th {\n",
       "        vertical-align: top;\n",
       "    }\n",
       "\n",
       "    .dataframe thead th {\n",
       "        text-align: right;\n",
       "    }\n",
       "</style>\n",
       "<table border=\"1\" class=\"dataframe\">\n",
       "  <thead>\n",
       "    <tr style=\"text-align: right;\">\n",
       "      <th></th>\n",
       "      <th>city</th>\n",
       "      <th>city_ascii</th>\n",
       "      <th>lat</th>\n",
       "      <th>lng</th>\n",
       "      <th>country</th>\n",
       "      <th>iso2</th>\n",
       "      <th>iso3</th>\n",
       "      <th>admin_name</th>\n",
       "      <th>capital</th>\n",
       "      <th>population</th>\n",
       "      <th>id</th>\n",
       "      <th>pop&lt;5km</th>\n",
       "      <th>pop&lt;10km</th>\n",
       "      <th>pop&lt;20km</th>\n",
       "    </tr>\n",
       "  </thead>\n",
       "  <tbody>\n",
       "    <tr>\n",
       "      <th>35</th>\n",
       "      <td>London</td>\n",
       "      <td>London</td>\n",
       "      <td>51.5072</td>\n",
       "      <td>-0.1275</td>\n",
       "      <td>United Kingdom</td>\n",
       "      <td>GB</td>\n",
       "      <td>GBR</td>\n",
       "      <td>London, City of</td>\n",
       "      <td>primary</td>\n",
       "      <td>11262000.0</td>\n",
       "      <td>1826645935</td>\n",
       "      <td>1023965.0</td>\n",
       "      <td>3674801.0</td>\n",
       "      <td>8999480.0</td>\n",
       "    </tr>\n",
       "    <tr>\n",
       "      <th>274</th>\n",
       "      <td>Birmingham</td>\n",
       "      <td>Birmingham</td>\n",
       "      <td>52.4800</td>\n",
       "      <td>-1.9025</td>\n",
       "      <td>United Kingdom</td>\n",
       "      <td>GB</td>\n",
       "      <td>GBR</td>\n",
       "      <td>Birmingham</td>\n",
       "      <td>NaN</td>\n",
       "      <td>2919600.0</td>\n",
       "      <td>1826423213</td>\n",
       "      <td>460386.0</td>\n",
       "      <td>1416102.0</td>\n",
       "      <td>2706341.0</td>\n",
       "    </tr>\n",
       "    <tr>\n",
       "      <th>297</th>\n",
       "      <td>Manchester</td>\n",
       "      <td>Manchester</td>\n",
       "      <td>53.4794</td>\n",
       "      <td>-2.2453</td>\n",
       "      <td>United Kingdom</td>\n",
       "      <td>GB</td>\n",
       "      <td>GBR</td>\n",
       "      <td>Manchester</td>\n",
       "      <td>NaN</td>\n",
       "      <td>2705000.0</td>\n",
       "      <td>1826246335</td>\n",
       "      <td>433527.0</td>\n",
       "      <td>1243302.0</td>\n",
       "      <td>2756259.0</td>\n",
       "    </tr>\n",
       "  </tbody>\n",
       "</table>\n",
       "</div>"
      ],
      "text/plain": [
       "           city  city_ascii      lat     lng         country iso2 iso3  \\\n",
       "35       London      London  51.5072 -0.1275  United Kingdom   GB  GBR   \n",
       "274  Birmingham  Birmingham  52.4800 -1.9025  United Kingdom   GB  GBR   \n",
       "297  Manchester  Manchester  53.4794 -2.2453  United Kingdom   GB  GBR   \n",
       "\n",
       "          admin_name  capital  population          id    pop<5km   pop<10km  \\\n",
       "35   London, City of  primary  11262000.0  1826645935  1023965.0  3674801.0   \n",
       "274       Birmingham      NaN   2919600.0  1826423213   460386.0  1416102.0   \n",
       "297       Manchester      NaN   2705000.0  1826246335   433527.0  1243302.0   \n",
       "\n",
       "      pop<20km  \n",
       "35   8999480.0  \n",
       "274  2706341.0  \n",
       "297  2756259.0  "
      ]
     },
     "execution_count": 11,
     "metadata": {},
     "output_type": "execute_result"
    }
   ],
   "source": [
    "def get_ring_pop(city, radius_km):\n",
    "    city = uk_rings.get(city, None)\n",
    "    if city is None:\n",
    "        return None\n",
    "    index = city[\"distances\"].index(radius_km)\n",
    "    if index == -1:\n",
    "        return None\n",
    "    return city[\"populations\"][index]\n",
    "\n",
    "\n",
    "# add column for population within 10km\n",
    "df_uk[\"pop<5km\"] = df_uk[\"city_ascii\"].apply(lambda city: get_ring_pop(city, 5))\n",
    "df_uk[\"pop<10km\"] = df_uk[\"city_ascii\"].apply(lambda city: get_ring_pop(city, 10))\n",
    "df_uk[\"pop<20km\"] = df_uk[\"city_ascii\"].apply(lambda city: get_ring_pop(city, 20))\n",
    "df_uk.head(3)"
   ]
  },
  {
   "attachments": {},
   "cell_type": "markdown",
   "metadata": {},
   "source": [
    "Plot\n"
   ]
  },
  {
   "cell_type": "code",
   "execution_count": 12,
   "metadata": {},
   "outputs": [
    {
     "data": {
      "image/png": "[encoded data removed]",
      "text/plain": [
       "<Figure size 640x480 with 1 Axes>"
      ]
     },
     "metadata": {},
     "output_type": "display_data"
    }
   ],
   "source": [
    "fig = plt.figure()\n",
    "ax = fig.add_subplot(111)\n",
    "SHOW_N = 19\n",
    "df_uk.head(SHOW_N + 1).tail(SHOW_N).plot.bar(\n",
    "    x=\"city_ascii\", y=[\"population\", \"pop<20km\", \"pop<10km\", \"pop<5km\"], ax=ax\n",
    ")\n",
    "ax.set_ylabel(\"Population\")\n",
    "ax.set_xlabel(\"City\")\n",
    "ax.set_title(\"Population from worldcities vs computed within 10km\")\n",
    "plt.show()"
   ]
  }
 ],
 "metadata": {
  "kernelspec": {
   "display_name": "Python 3",
   "language": "python",
   "name": "python3"
  },
  "language_info": {
   "codemirror_mode": {
    "name": "ipython",
    "version": 3
   },
   "file_extension": ".py",
   "mimetype": "text/x-python",
   "name": "python",
   "nbconvert_exporter": "python",
   "pygments_lexer": "ipython3",
   "version": "3.11.0"
  },
  "orig_nbformat": 4
 },
 "nbformat": 4,
 "nbformat_minor": 2
}
